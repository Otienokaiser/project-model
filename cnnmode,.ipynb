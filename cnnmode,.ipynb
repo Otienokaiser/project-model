{
  "nbformat": 4,
  "nbformat_minor": 0,
  "metadata": {
    "colab": {
      "provenance": [],
      "mount_file_id": "1wpm8BFhpegVLM6dfWtrw-lvycvlDSnHb",
      "authorship_tag": "ABX9TyNbuhrcz4I2xQSHfVJrMXJV",
      "include_colab_link": true
    },
    "kernelspec": {
      "name": "python3",
      "display_name": "Python 3"
    },
    "language_info": {
      "name": "python"
    }
  },
  "cells": [
    {
      "cell_type": "markdown",
      "metadata": {
        "id": "view-in-github",
        "colab_type": "text"
      },
      "source": [
        "<a href=\"https://colab.research.google.com/github/maxoti/project-model/blob/main/cnnmode%2C.ipynb\" target=\"_parent\"><img src=\"https://colab.research.google.com/assets/colab-badge.svg\" alt=\"Open In Colab\"/></a>"
      ]
    },
    {
      "cell_type": "code",
      "execution_count": 1,
      "metadata": {
        "id": "mZbvWSI_RkKH"
      },
      "outputs": [],
      "source": [
        "import tensorflow as tf\n",
        "import numpy as np\n",
        "import matplotlib.pyplot as plt\n",
        "from tensorflow.keras.datasets import mnist\n",
        "from tensorflow.keras.models import Sequential\n",
        "from tensorflow.keras.layers import Dense, Conv2D, Flatten, MaxPooling2D\n",
        "from tensorflow.keras.optimizers import Adam\n",
        "from tensorflow.keras.losses import SparseCategoricalCrossentropy\n",
        "from tensorflow.keras.metrics import SparseCategoricalAccuracy"
      ]
    },
    {
      "cell_type": "code",
      "source": [
        "data_dir = '/content/drive/MyDrive/data'"
      ],
      "metadata": {
        "id": "wSDCMJAGTqZY"
      },
      "execution_count": 8,
      "outputs": []
    },
    {
      "cell_type": "code",
      "source": [
        "BATCH_SIZE = 10\n",
        "IMAGE_SIZE = (50, 50)"
      ],
      "metadata": {
        "id": "ov-10313T0Z-"
      },
      "execution_count": 9,
      "outputs": []
    },
    {
      "cell_type": "code",
      "source": [
        "train_ds = tf.keras.preprocessing.image_dataset_from_directory(\n",
        "    data_dir,\n",
        "    validation_split=0.2,\n",
        "    subset='training',\n",
        "    seed=123,\n",
        "    image_size=IMAGE_SIZE,\n",
        "    batch_size=BATCH_SIZE,\n",
        ")\n",
        "\n",
        "test_ds = tf.keras.preprocessing.image_dataset_from_directory(\n",
        "    data_dir,\n",
        "    validation_split=0.2,\n",
        "    subset='validation',\n",
        "    seed=123,\n",
        "    image_size=IMAGE_SIZE,\n",
        "    batch_size=BATCH_SIZE,\n",
        ")\n"
      ],
      "metadata": {
        "colab": {
          "base_uri": "https://localhost:8080/"
        },
        "id": "Cfg8zqvCT7XT",
        "outputId": "1afb3e17-acc7-4930-a49c-bd7654b04ece"
      },
      "execution_count": 11,
      "outputs": [
        {
          "output_type": "stream",
          "name": "stdout",
          "text": [
            "Found 22 files belonging to 5 classes.\n",
            "Using 18 files for training.\n",
            "Found 22 files belonging to 5 classes.\n",
            "Using 4 files for validation.\n"
          ]
        }
      ]
    },
    {
      "cell_type": "code",
      "source": [
        "num_classes = len(train_ds.class_names)"
      ],
      "metadata": {
        "id": "29E52-BKUJJu"
      },
      "execution_count": 12,
      "outputs": []
    },
    {
      "cell_type": "code",
      "source": [
        "input_shape = IMAGE_SIZE + (3,)"
      ],
      "metadata": {
        "id": "KArKQMQnUNRR"
      },
      "execution_count": 13,
      "outputs": []
    },
    {
      "cell_type": "code",
      "source": [
        "model = tf.keras.Sequential([\n",
        "    tf.keras.layers.experimental.preprocessing.Rescaling(1./255, input_shape=input_shape),\n",
        "    tf.keras.layers.Conv2D(16, 3, padding='same', activation='relu'),\n",
        "    tf.keras.layers.MaxPooling2D(),\n",
        "    tf.keras.layers.Conv2D(32, 3, padding='same', activation='relu'),\n",
        "    tf.keras.layers.MaxPooling2D(),\n",
        "    tf.keras.layers.Flatten(),\n",
        "    tf.keras.layers.Dense(128, activation='relu'),\n",
        "    tf.keras.layers.Dense(num_classes)\n",
        "])\n"
      ],
      "metadata": {
        "id": "oTDV_VtEUZBs"
      },
      "execution_count": 14,
      "outputs": []
    },
    {
      "cell_type": "code",
      "source": [
        "model.compile(optimizer='adam',\n",
        "              loss=tf.keras.losses.SparseCategoricalCrossentropy(from_logits=True),\n",
        "              metrics=['accuracy'])"
      ],
      "metadata": {
        "id": "734Oj_qnUge8"
      },
      "execution_count": 15,
      "outputs": []
    },
    {
      "cell_type": "code",
      "source": [
        "history = model.fit(train_ds, epochs=10, validation_data=test_ds)"
      ],
      "metadata": {
        "colab": {
          "base_uri": "https://localhost:8080/"
        },
        "id": "wtpd6OK3UkFF",
        "outputId": "76e4a9f0-2ea5-4045-8917-5768366c6ced"
      },
      "execution_count": 16,
      "outputs": [
        {
          "output_type": "stream",
          "name": "stdout",
          "text": [
            "Epoch 1/10\n",
            "2/2 [==============================] - 6s 2s/step - loss: 1.7379 - accuracy: 0.1667 - val_loss: 1.4143 - val_accuracy: 0.2500\n",
            "Epoch 2/10\n",
            "2/2 [==============================] - 0s 170ms/step - loss: 1.4507 - accuracy: 0.2778 - val_loss: 1.3513 - val_accuracy: 0.2500\n",
            "Epoch 3/10\n",
            "2/2 [==============================] - 0s 115ms/step - loss: 1.3276 - accuracy: 0.3333 - val_loss: 1.2994 - val_accuracy: 0.5000\n",
            "Epoch 4/10\n",
            "2/2 [==============================] - 0s 171ms/step - loss: 1.1954 - accuracy: 0.7778 - val_loss: 1.2339 - val_accuracy: 0.7500\n",
            "Epoch 5/10\n",
            "2/2 [==============================] - 0s 109ms/step - loss: 1.0989 - accuracy: 0.9444 - val_loss: 1.1528 - val_accuracy: 0.5000\n",
            "Epoch 6/10\n",
            "2/2 [==============================] - 0s 172ms/step - loss: 0.9189 - accuracy: 0.9444 - val_loss: 1.1424 - val_accuracy: 0.5000\n",
            "Epoch 7/10\n",
            "2/2 [==============================] - 0s 118ms/step - loss: 0.7770 - accuracy: 0.8333 - val_loss: 0.9761 - val_accuracy: 0.7500\n",
            "Epoch 8/10\n",
            "2/2 [==============================] - 0s 172ms/step - loss: 0.6323 - accuracy: 0.9444 - val_loss: 0.8379 - val_accuracy: 1.0000\n",
            "Epoch 9/10\n",
            "2/2 [==============================] - 0s 101ms/step - loss: 0.5386 - accuracy: 0.9444 - val_loss: 0.8066 - val_accuracy: 0.7500\n",
            "Epoch 10/10\n",
            "2/2 [==============================] - 0s 170ms/step - loss: 0.3590 - accuracy: 0.9444 - val_loss: 0.9737 - val_accuracy: 0.7500\n"
          ]
        }
      ]
    },
    {
      "cell_type": "code",
      "source": [
        "from sklearn.metrics import accuracy_score, precision_score, recall_score, f1_score, confusion_matrix"
      ],
      "metadata": {
        "id": "A8A7fIHVUshI"
      },
      "execution_count": 17,
      "outputs": []
    },
    {
      "cell_type": "code",
      "source": [
        "y_pred = model.predict(test_ds)"
      ],
      "metadata": {
        "colab": {
          "base_uri": "https://localhost:8080/"
        },
        "id": "aPVwWoQNWNL_",
        "outputId": "de0e1b6f-0f75-4d50-804f-653675eeb781"
      },
      "execution_count": 23,
      "outputs": [
        {
          "output_type": "stream",
          "name": "stdout",
          "text": [
            "1/1 [==============================] - 0s 132ms/step\n"
          ]
        }
      ]
    },
    {
      "cell_type": "code",
      "source": [
        "y_pred_labels = np.argmax(y_pred, axis=1)"
      ],
      "metadata": {
        "id": "a7-VXU8xWWwF"
      },
      "execution_count": 24,
      "outputs": []
    },
    {
      "cell_type": "code",
      "source": [
        "print(y_test.shape)\n",
        "print(y_pred_labels.shape)"
      ],
      "metadata": {
        "id": "q2x9WYmYWlrE"
      },
      "execution_count": null,
      "outputs": []
    }
  ]
}