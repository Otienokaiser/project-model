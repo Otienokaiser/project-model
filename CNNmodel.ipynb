{
  "nbformat": 4,
  "nbformat_minor": 0,
  "metadata": {
    "colab": {
      "provenance": [],
      "mount_file_id": "1wpm8BFhpegVLM6dfWtrw-lvycvlDSnHb",
      "authorship_tag": "ABX9TyNbmSeLrHuFQvj7opMN2atQ",
      "include_colab_link": true
    },
    "kernelspec": {
      "name": "python3",
      "display_name": "Python 3"
    },
    "language_info": {
      "name": "python"
    }
  },
  "cells": [
    {
      "cell_type": "markdown",
      "metadata": {
        "id": "view-in-github",
        "colab_type": "text"
      },
      "source": [
        "<a href=\"https://colab.research.google.com/github/maxoti/project-model/blob/main/CNNmodel.ipynb\" target=\"_parent\"><img src=\"https://colab.research.google.com/assets/colab-badge.svg\" alt=\"Open In Colab\"/></a>"
      ]
    },
    {
      "cell_type": "code",
      "execution_count": 50,
      "metadata": {
        "id": "mZbvWSI_RkKH"
      },
      "outputs": [],
      "source": [
        "import tensorflow as tf\n",
        "import numpy as np\n",
        "import matplotlib.pyplot as plt\n",
        "from tensorflow.keras.datasets import mnist\n",
        "from tensorflow.keras.models import Sequential\n",
        "from tensorflow.keras.layers import Dense, Conv2D, Flatten, MaxPooling2D\n",
        "from tensorflow.keras.optimizers import Adam\n",
        "from tensorflow.keras.losses import SparseCategoricalCrossentropy\n",
        "from tensorflow.keras.metrics import SparseCategoricalAccuracy"
      ]
    },
    {
      "cell_type": "code",
      "source": [
        "data_dir = '/content/drive/MyDrive/data'"
      ],
      "metadata": {
        "id": "wSDCMJAGTqZY"
      },
      "execution_count": 51,
      "outputs": []
    },
    {
      "cell_type": "code",
      "source": [
        "BATCH_SIZE = 10\n",
        "IMAGE_SIZE = (50, 50)"
      ],
      "metadata": {
        "id": "ov-10313T0Z-"
      },
      "execution_count": 52,
      "outputs": []
    },
    {
      "cell_type": "code",
      "source": [
        "train_ds = tf.keras.preprocessing.image_dataset_from_directory(\n",
        "    data_dir,\n",
        "    validation_split=0.2,\n",
        "    subset='training',\n",
        "    seed=123,\n",
        "    image_size=IMAGE_SIZE,\n",
        "    batch_size=BATCH_SIZE,\n",
        ")\n",
        "\n",
        "test_ds = tf.keras.preprocessing.image_dataset_from_directory(\n",
        "    data_dir,\n",
        "    validation_split=0.2,\n",
        "    subset='validation',\n",
        "    seed=123,\n",
        "    image_size=IMAGE_SIZE,\n",
        "    batch_size=BATCH_SIZE,\n",
        ")\n"
      ],
      "metadata": {
        "colab": {
          "base_uri": "https://localhost:8080/"
        },
        "id": "Cfg8zqvCT7XT",
        "outputId": "b1808b24-da58-4f2f-a14d-857ed0e145da"
      },
      "execution_count": 53,
      "outputs": [
        {
          "output_type": "stream",
          "name": "stdout",
          "text": [
            "Found 22 files belonging to 5 classes.\n",
            "Using 18 files for training.\n",
            "Found 22 files belonging to 5 classes.\n",
            "Using 4 files for validation.\n"
          ]
        }
      ]
    },
    {
      "cell_type": "code",
      "source": [
        "num_classes = len(train_ds.class_names)"
      ],
      "metadata": {
        "id": "29E52-BKUJJu"
      },
      "execution_count": 54,
      "outputs": []
    },
    {
      "cell_type": "code",
      "source": [
        "input_shape = IMAGE_SIZE + (3,)"
      ],
      "metadata": {
        "id": "KArKQMQnUNRR"
      },
      "execution_count": 55,
      "outputs": []
    },
    {
      "cell_type": "code",
      "source": [
        "model = tf.keras.Sequential([\n",
        "    tf.keras.layers.experimental.preprocessing.Rescaling(1./255, input_shape=input_shape),\n",
        "    tf.keras.layers.Conv2D(16, 3, padding='same', activation='relu'),\n",
        "    tf.keras.layers.MaxPooling2D(),\n",
        "    tf.keras.layers.Conv2D(32, 3, padding='same', activation='relu'),\n",
        "    tf.keras.layers.MaxPooling2D(),\n",
        "    tf.keras.layers.Flatten(),\n",
        "    tf.keras.layers.Dense(128, activation='relu'),\n",
        "    tf.keras.layers.Dense(num_classes)\n",
        "])\n"
      ],
      "metadata": {
        "id": "oTDV_VtEUZBs"
      },
      "execution_count": 56,
      "outputs": []
    },
    {
      "cell_type": "code",
      "source": [
        "model.compile(optimizer='adam',\n",
        "              loss=tf.keras.losses.SparseCategoricalCrossentropy(from_logits=True),\n",
        "              metrics=['accuracy'])"
      ],
      "metadata": {
        "id": "734Oj_qnUge8"
      },
      "execution_count": 57,
      "outputs": []
    },
    {
      "cell_type": "code",
      "source": [
        "history = model.fit(train_ds, epochs=10, validation_data=test_ds)"
      ],
      "metadata": {
        "colab": {
          "base_uri": "https://localhost:8080/"
        },
        "id": "wtpd6OK3UkFF",
        "outputId": "68a78889-d298-4d57-f22d-e112b625b00c"
      },
      "execution_count": 58,
      "outputs": [
        {
          "output_type": "stream",
          "name": "stdout",
          "text": [
            "Epoch 1/10\n",
            "2/2 [==============================] - 1s 326ms/step - loss: 1.7568 - accuracy: 0.0556 - val_loss: 1.4560 - val_accuracy: 0.2500\n",
            "Epoch 2/10\n",
            "2/2 [==============================] - 0s 171ms/step - loss: 1.4426 - accuracy: 0.3333 - val_loss: 1.4269 - val_accuracy: 0.2500\n",
            "Epoch 3/10\n",
            "2/2 [==============================] - 0s 172ms/step - loss: 1.3754 - accuracy: 0.2778 - val_loss: 1.3730 - val_accuracy: 0.2500\n",
            "Epoch 4/10\n",
            "2/2 [==============================] - 0s 100ms/step - loss: 1.2435 - accuracy: 0.3889 - val_loss: 1.3091 - val_accuracy: 0.2500\n",
            "Epoch 5/10\n",
            "2/2 [==============================] - 0s 173ms/step - loss: 1.0771 - accuracy: 0.7778 - val_loss: 1.2223 - val_accuracy: 0.5000\n",
            "Epoch 6/10\n",
            "2/2 [==============================] - 0s 193ms/step - loss: 0.9498 - accuracy: 0.8889 - val_loss: 1.1900 - val_accuracy: 0.2500\n",
            "Epoch 7/10\n",
            "2/2 [==============================] - 0s 161ms/step - loss: 0.7892 - accuracy: 0.8889 - val_loss: 1.0379 - val_accuracy: 0.7500\n",
            "Epoch 8/10\n",
            "2/2 [==============================] - 0s 189ms/step - loss: 0.6595 - accuracy: 0.9444 - val_loss: 0.9508 - val_accuracy: 0.5000\n",
            "Epoch 9/10\n",
            "2/2 [==============================] - 0s 195ms/step - loss: 0.5291 - accuracy: 0.9444 - val_loss: 0.8459 - val_accuracy: 0.7500\n",
            "Epoch 10/10\n",
            "2/2 [==============================] - 0s 101ms/step - loss: 0.3526 - accuracy: 1.0000 - val_loss: 0.8579 - val_accuracy: 0.7500\n"
          ]
        }
      ]
    },
    {
      "cell_type": "code",
      "source": [
        "from sklearn.metrics import accuracy_score, precision_score, recall_score, f1_score, confusion_matrix"
      ],
      "metadata": {
        "id": "A8A7fIHVUshI"
      },
      "execution_count": 59,
      "outputs": []
    },
    {
      "cell_type": "code",
      "source": [
        "y_pred = model.predict(test_ds)"
      ],
      "metadata": {
        "colab": {
          "base_uri": "https://localhost:8080/"
        },
        "id": "aPVwWoQNWNL_",
        "outputId": "fde661b2-f36f-4535-efac-8a327a714bf9"
      },
      "execution_count": 60,
      "outputs": [
        {
          "output_type": "stream",
          "name": "stdout",
          "text": [
            "1/1 [==============================] - 0s 207ms/step\n"
          ]
        }
      ]
    },
    {
      "cell_type": "code",
      "source": [
        "y_pred_labels = np.argmax(y_pred, axis=1)"
      ],
      "metadata": {
        "id": "a7-VXU8xWWwF"
      },
      "execution_count": 61,
      "outputs": []
    },
    {
      "cell_type": "code",
      "source": [
        "test_images, test_labels = tf.keras.datasets.mnist.load_data()[1]"
      ],
      "metadata": {
        "id": "xP47yzKHuu9f"
      },
      "execution_count": 62,
      "outputs": []
    },
    {
      "cell_type": "code",
      "source": [
        "from tensorflow.keras import layers, models"
      ],
      "metadata": {
        "id": "Mh_4sDvSx3_T"
      },
      "execution_count": 63,
      "outputs": []
    },
    {
      "cell_type": "code",
      "source": [
        "model = models.Sequential([\n",
        "    layers.Reshape((28, 28, 1), input_shape=(28, 28)),  # Adjust input shape to match input data\n",
        "    layers.Conv2D(32, (3, 3), activation='relu'),\n",
        "])"
      ],
      "metadata": {
        "id": "h1WeR0W3xivF"
      },
      "execution_count": 74,
      "outputs": []
    },
    {
      "cell_type": "code",
      "source": [
        "test_data_dir = '/content/drive/MyDrive/data'\n",
        "batch_size = 32\n",
        "img_height = 28\n",
        "img_width = 28"
      ],
      "metadata": {
        "id": "0MDxOvI4zROz"
      },
      "execution_count": 65,
      "outputs": []
    },
    {
      "cell_type": "code",
      "source": [
        "test_dataset = tf.keras.preprocessing.image_dataset_from_directory(\n",
        "    test_data_dir,\n",
        "    batch_size=batch_size,\n",
        "    image_size=(img_height, img_width),\n",
        "    shuffle=False\n",
        ")"
      ],
      "metadata": {
        "colab": {
          "base_uri": "https://localhost:8080/"
        },
        "id": "BFO8Z0YhzgGF",
        "outputId": "9def4ce7-cd5d-4820-ab94-0113712dc83d"
      },
      "execution_count": 66,
      "outputs": [
        {
          "output_type": "stream",
          "name": "stdout",
          "text": [
            "Found 22 files belonging to 5 classes.\n"
          ]
        }
      ]
    },
    {
      "cell_type": "code",
      "source": [
        "test_images, test_labels = [], []\n",
        "for images, labels in test_dataset:\n",
        "    test_images.append(images.numpy())\n",
        "    test_labels.append(labels.numpy())"
      ],
      "metadata": {
        "id": "FOr9835K0HUt"
      },
      "execution_count": 67,
      "outputs": []
    },
    {
      "cell_type": "code",
      "source": [
        "test_images = np.concatenate(test_images, axis=0)\n",
        "test_labels = np.concatenate(test_labels, axis=0)"
      ],
      "metadata": {
        "id": "5LzHhjyx0MyX"
      },
      "execution_count": 68,
      "outputs": []
    },
    {
      "cell_type": "code",
      "source": [
        "model.compile(optimizer='adam', loss='sparse_categorical_crossentropy')"
      ],
      "metadata": {
        "id": "JxqlJ3GC0sE2"
      },
      "execution_count": 69,
      "outputs": []
    },
    {
      "cell_type": "code",
      "source": [
        "model.summary()"
      ],
      "metadata": {
        "colab": {
          "base_uri": "https://localhost:8080/"
        },
        "id": "d53H8-yU1ofS",
        "outputId": "241c85bf-8474-45cd-9eda-1debcb0d2fce"
      },
      "execution_count": 71,
      "outputs": [
        {
          "output_type": "stream",
          "name": "stdout",
          "text": [
            "Model: \"sequential_6\"\n",
            "_________________________________________________________________\n",
            " Layer (type)                Output Shape              Param #   \n",
            "=================================================================\n",
            " reshape_2 (Reshape)         (None, 28, 28, 1)         0         \n",
            "                                                                 \n",
            " conv2d_10 (Conv2D)          (None, 26, 26, 32)        320       \n",
            "                                                                 \n",
            "=================================================================\n",
            "Total params: 320 (1.25 KB)\n",
            "Trainable params: 320 (1.25 KB)\n",
            "Non-trainable params: 0 (0.00 Byte)\n",
            "_________________________________________________________________\n"
          ]
        }
      ]
    },
    {
      "cell_type": "code",
      "source": [
        "model = models.Sequential([\n",
        "    layers.Reshape((28, 28, 3), input_shape=(28, 28, 3)),  # Adjust input shape to match input data\n",
        "    layers.Conv2D(32, (3, 3), activation='relu'),\n",
        "])"
      ],
      "metadata": {
        "id": "R6bx5my_2t7m"
      },
      "execution_count": 75,
      "outputs": []
    },
    {
      "cell_type": "code",
      "source": [
        "model.summary()"
      ],
      "metadata": {
        "colab": {
          "base_uri": "https://localhost:8080/"
        },
        "id": "kFHo8RW328Eu",
        "outputId": "1278ff0a-b935-4512-d80d-30cbdfe2d3f9"
      },
      "execution_count": 77,
      "outputs": [
        {
          "output_type": "stream",
          "name": "stdout",
          "text": [
            "Model: \"sequential_9\"\n",
            "_________________________________________________________________\n",
            " Layer (type)                Output Shape              Param #   \n",
            "=================================================================\n",
            " reshape_5 (Reshape)         (None, 28, 28, 3)         0         \n",
            "                                                                 \n",
            " conv2d_13 (Conv2D)          (None, 26, 26, 32)        896       \n",
            "                                                                 \n",
            "=================================================================\n",
            "Total params: 896 (3.50 KB)\n",
            "Trainable params: 896 (3.50 KB)\n",
            "Non-trainable params: 0 (0.00 Byte)\n",
            "_________________________________________________________________\n"
          ]
        }
      ]
    },
    {
      "cell_type": "code",
      "source": [
        "model = Sequential([\n",
        "    Flatten(input_shape=(28, 28)),\n",
        "    Dense(128, activation='relu'),\n",
        "    Dense(10, activation='softmax')\n",
        "])"
      ],
      "metadata": {
        "id": "WTqCk_wT3pXQ"
      },
      "execution_count": 79,
      "outputs": []
    },
    {
      "cell_type": "code",
      "source": [
        "model.compile(optimizer='adam', loss='sparse_categorical_crossentropy', metrics=['accuracy'])"
      ],
      "metadata": {
        "id": "zqo-Dr3U30OV"
      },
      "execution_count": 81,
      "outputs": []
    },
    {
      "cell_type": "code",
      "source": [
        "model = models.Sequential([\n",
        "    layers.Flatten(),\n",
        "    layers.Dense(128, activation='relu'),\n",
        "    layers.Dense(10)\n",
        "])"
      ],
      "metadata": {
        "id": "Kc_znyjk4m19"
      },
      "execution_count": 83,
      "outputs": []
    },
    {
      "cell_type": "code",
      "source": [
        "model.compile(optimizer='adam',\n",
        "              loss=tf.keras.losses.SparseCategoricalCrossentropy(from_logits=True),\n",
        "              metrics=['accuracy'])"
      ],
      "metadata": {
        "id": "RYBiv-eo4w-L"
      },
      "execution_count": 84,
      "outputs": []
    },
    {
      "cell_type": "code",
      "source": [
        "test_loss, test_accuracy = model.evaluate(test_images, test_labels)\n",
        "\n",
        "print(f'Test Loss: {test_loss}')\n",
        "print(f'Test Accuracy: {test_accuracy}')"
      ],
      "metadata": {
        "colab": {
          "base_uri": "https://localhost:8080/"
        },
        "id": "FFTI0pb635X7",
        "outputId": "4ea35bb1-13a4-4986-96fe-1463abbb1d88"
      },
      "execution_count": 85,
      "outputs": [
        {
          "output_type": "stream",
          "name": "stdout",
          "text": [
            "1/1 [==============================] - 0s 250ms/step - loss: 363.4389 - accuracy: 0.2727\n",
            "Test Loss: 363.4388732910156\n",
            "Test Accuracy: 0.27272728085517883\n"
          ]
        }
      ]
    }
  ]
}